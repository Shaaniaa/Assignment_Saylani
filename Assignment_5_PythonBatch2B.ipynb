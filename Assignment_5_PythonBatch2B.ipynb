{
 "cells": [
  {
   "cell_type": "markdown",
   "metadata": {},
   "source": [
    "# TASK:1"
   ]
  },
  {
   "cell_type": "code",
   "execution_count": 2,
   "metadata": {},
   "outputs": [
    {
     "name": "stdout",
     "output_type": "stream",
     "text": [
      "---------------- Calculating Factorial of Number Using Function in Python ----------------------\n",
      "\n",
      "----------------------------------xxxxxxxxxxxxxxxxxxxxxxxxxxxxx---------------------------------\n",
      "Please Enter the Value for the calculation of Factorial ---> 4\n",
      "Your Input Number is ---> 4 And Here is the Factorial of Number ---> 24\n"
     ]
    }
   ],
   "source": [
    "print(\"---------------- Calculating Factorial of Number Using Function in Python ----------------------\\n\")\n",
    "print(\"----------------------------------xxxxxxxxxxxxxxxxxxxxxxxxxxxxx---------------------------------\") #For Decoration\n",
    "\n",
    "def factorial(num):   #Function to Calculate Factorial\n",
    "    f=1             #Intialize Factorial Variable f by 1 because if we get 0 then its factorial will be 1 \n",
    "   \n",
    "    for i in range(1,num+1):    #Function defining range of loop starting from 1 till num +1 \n",
    "                                # RANGE(1,NUM+1) if our range goes till (1,NUM) then it takes only 3 iterations but because we---\n",
    "                                    # need iterations same as our input number so we witten down num+1 in range\n",
    "                                \n",
    "                                #Dry Run of loop: \n",
    "                                # On first Iteration: f = f*i --> 1 = 1*1\n",
    "                                # On second iteration now f stored 1 and i incremented to 2--> so f= 1*2 = 2\n",
    "                                # On Third iteration now f stored 2 and i incremented to 3--> so f= 2*3 = 6\n",
    "                                # On Fourth iteration now f stored 6 and i incremented to 4--> so f= 6*4 = 24\n",
    "                                   \n",
    "        f = f*i\n",
    "    return f                   #When we are giving value to function we do Provide Arguments\n",
    "                               #When we are taking value from function we do write Return and write next to return what we want\n",
    " \n",
    "\n",
    "value = int(input(\"Please Enter the Value for the calculation of Factorial ---> \")) #User Input for Factorial Calculation\n",
    "function_In_Variable = factorial(value) #Function returning its calculation where it get called which is here \n",
    "print(\"Your Input Number is ---> {} And Here is the Factorial of Number ---> {}\".format(value,function_In_Variable))     "
   ]
  },
  {
   "cell_type": "markdown",
   "metadata": {},
   "source": [
    "# Task 2"
   ]
  },
  {
   "cell_type": "code",
   "execution_count": 1,
   "metadata": {
    "scrolled": true
   },
   "outputs": [
    {
     "name": "stdout",
     "output_type": "stream",
     "text": [
      "------------- ALERT: Only Accepting Strings ------------------\n",
      "\n",
      "\n",
      "------------- xxxxxxxxxxxxxxxxxxxxxxxxxxxxx ------------------\n",
      "\n",
      "Insert String--> Shania Khan is Python Programmer\n",
      "You have input ---> Shania Khan is Python Programmer & Result is ---> Total Uppercases are: 4 Total Lowercases are: 24 \n"
     ]
    }
   ],
   "source": [
    "print(\"------------- ALERT: Only Accepting Strings ------------------\\n\")\n",
    "print(\"\\n------------- xxxxxxxxxxxxxxxxxxxxxxxxxxxxx ------------------\\n\")\n",
    "\n",
    "#We are saving the wordcount of Upper Case and Lower Case in Dictionary\n",
    "\n",
    "def WordCount(value):   #Function to count upper and lower case in string\n",
    "    \n",
    "    dictionary={\"UpperCase\":0,        #This dictionary is saving count of UpperCase and LowerCase\n",
    "    \"LowerCase\":0}                   #In Dictionary --> UpperCase is Key, 0 is Value\n",
    "   \n",
    "    for strings in value:           #Loop will run until the last character of string\n",
    "        if (strings.islower()):\n",
    "            dictionary[\"LowerCase\"] += 1         #if it get lowercase then it will add 1 to the previous value stored in lowercase\n",
    "        \n",
    "        elif (strings.isupper()): \n",
    "            dictionary[\"UpperCase\"] +=1          #same to same as lowercase\n",
    "    \n",
    "    return(\"Total Uppercases are: {} Total Lowercases are: {} \".format(dictionary[\"UpperCase\"],dictionary[\"LowerCase\"]))  \n",
    "                                                                                  #first Uppercase will print then-- \n",
    "                                                                                                   #lowercase\n",
    "    \n",
    "    \n",
    "    \n",
    "inp = str(input(\"Insert String--> \"))    #String input by user\n",
    "#print(function(inp))  #Wrong Way\n",
    "functions=WordCount(inp)    #function argument will save in variable as without saving it in variable we cant directly print it\n",
    "print(\"You have input ---> {} & Result is ---> {}\".format(inp,functions)) #First it will print user input and then it print ---\n",
    "                                                                          #what is inside return of WordCount function\n"
   ]
  },
  {
   "cell_type": "markdown",
   "metadata": {},
   "source": [
    "# Task 3"
   ]
  },
  {
   "cell_type": "code",
   "execution_count": 9,
   "metadata": {},
   "outputs": [
    {
     "name": "stdout",
     "output_type": "stream",
     "text": [
      "------------- This Function will print only EVEN NUMBERS ------------------\n",
      "\n",
      "-------------          xxxxxxxxxxxxxxxxxxxxxx            ------------------\n",
      "\n",
      "Enter Numbers in List, ALERT: Should Be Separated by Space ---> 22 1 44 35 20 27 4 9 0 100 99 45 44 2 9 8\n",
      "User Entered List is ['22', '1', '44', '35', '20', '27', '4', '9', '0', '100', '99', '45', '44', '2', '9', '8']\n",
      "['22', '44', '20', '4', '0', '100', '44', '2', '8']\n"
     ]
    }
   ],
   "source": [
    "print(\"------------- This Function will print only EVEN NUMBERS ------------------\\n\")\n",
    "print(\"-------------          xxxxxxxxxxxxxxxxxxxxxx            ------------------\\n\")\n",
    "\n",
    "input_string = input(\"Enter Numbers in List, ALERT: Should Be Separated by Space ---> \")\n",
    "    \n",
    "input_List =input_string.split()   #Split() function to split a string by space and added those numbers to the list\n",
    "print(\"User Entered List is {}\".format(input_List))\n",
    "\n",
    "\n",
    "def EvenValues( ):\n",
    "      \n",
    "    List_Even=[]  #List to append all the even numbers in it\n",
    "    \n",
    "    \n",
    "    for even in input_List:   \n",
    "        \n",
    "        if((int(even))%2==0):   #convert string to int so it can check for even number\n",
    "            List_Even.append(even) #even numbers will be saved in List_Even     \n",
    "    return (List_Even)\n",
    "\n",
    "functiona = EvenValues()\n",
    "print(functiona)        "
   ]
  },
  {
   "cell_type": "markdown",
   "metadata": {},
   "source": [
    "# Task 4"
   ]
  },
  {
   "cell_type": "code",
   "execution_count": 3,
   "metadata": {},
   "outputs": [
    {
     "name": "stdout",
     "output_type": "stream",
     "text": [
      "------------- This Function will check Input String is palindrome or not ------------------\n",
      "\n",
      "-------------          xxxxxxxxxxxxxxxxxxxxxx            ------------------\n",
      "\n",
      "Enter Any String to Check Whether it is Palindrome --> madam\n",
      "The input String is: madam is a palindrome\n"
     ]
    }
   ],
   "source": [
    "print(\"------------- This Function will check Input String is palindrome or not ------------------\\n\")\n",
    "print(\"-------------          xxxxxxxxxxxxxxxxxxxxxx            ------------------\\n\")\n",
    "\n",
    "Palindrome_Input = input(\"Enter Any String to Check Whether it is Palindrome --> \")\n",
    "\n",
    "def palindrome(value):\n",
    "    \n",
    "    \n",
    "    if (value) == value[::-1]:\n",
    "        return (\"a\")\n",
    "   # else:\n",
    "    return (\"not\")\n",
    "\n",
    "    \n",
    "palind = palindrome(Palindrome_Input)\n",
    "\n",
    "\n",
    "print(\"The input String is: {} is {} palindrome\".format(Palindrome_Input,palind))"
   ]
  },
  {
   "cell_type": "markdown",
   "metadata": {},
   "source": [
    "# Task 5"
   ]
  },
  {
   "cell_type": "code",
   "execution_count": 11,
   "metadata": {},
   "outputs": [
    {
     "name": "stdout",
     "output_type": "stream",
     "text": [
      "------------- This Function will check whether Input Number is Prime ------------------\n",
      "\n",
      "-------------          xxxxxxxxxxxxxxxxxxxxxx            ------------------\n",
      "\n",
      "Enter num to check whether it is prime or not --> 11\n",
      "The input Number is: 11 is Prime Number!\n"
     ]
    }
   ],
   "source": [
    "print(\"------------- This Function will check whether Input Number is Prime ------------------\\n\")\n",
    "print(\"-------------          xxxxxxxxxxxxxxxxxxxxxx            ------------------\\n\")\n",
    "\n",
    "def isprime(value):\n",
    "    \n",
    "    for i in range(2,value):\n",
    "        if(value%i == 0):\n",
    "            return (\"Not Prime\")\n",
    "        return (\"Prime\")\n",
    "    \n",
    "num = int(input(\"Enter num to check whether it is prime or not --> \"))\n",
    "primee = isprime(num)\n",
    "\n",
    "print(\"The input Number is: {} is {} Number!\".format(num,primee))"
   ]
  },
  {
   "cell_type": "markdown",
   "metadata": {},
   "source": [
    "# Task 6"
   ]
  },
  {
   "cell_type": "code",
   "execution_count": 21,
   "metadata": {},
   "outputs": [
    {
     "name": "stdout",
     "output_type": "stream",
     "text": [
      "------------- This Function will accept multiple arguments and print all items ------------------\n",
      "\n",
      "-------------          xxxxxxxxxxxxxxxxxxxxxx            ------------------\n",
      "\n",
      "Person has Bought from Market --> \n",
      "\n",
      "\tPen\n",
      "\tPaper\n",
      "\tColor Box\n",
      "\t2 Inks\n"
     ]
    }
   ],
   "source": [
    "print(\"------------- This Function will accept multiple arguments and print all items ------------------\\n\")\n",
    "print(\"-------------          xxxxxxxxxxxxxxxxxxxxxx            ------------------\\n\")\n",
    "\n",
    "def userShopping(*value):\n",
    "    print(\"Person has Bought from Market --> \\n\")\n",
    "    for values in value:\n",
    "        print(f\"\\t{values}\")\n",
    "        \n",
    "        \n",
    "userShopping(\"Pen\",\"Paper\",\"Color Box\",\"2 Inks\")"
   ]
  },
  {
   "cell_type": "code",
   "execution_count": null,
   "metadata": {},
   "outputs": [],
   "source": []
  }
 ],
 "metadata": {
  "kernelspec": {
   "display_name": "Python 3",
   "language": "python",
   "name": "python3"
  },
  "language_info": {
   "codemirror_mode": {
    "name": "ipython",
    "version": 3
   },
   "file_extension": ".py",
   "mimetype": "text/x-python",
   "name": "python",
   "nbconvert_exporter": "python",
   "pygments_lexer": "ipython3",
   "version": "3.6.5"
  }
 },
 "nbformat": 4,
 "nbformat_minor": 2
}
