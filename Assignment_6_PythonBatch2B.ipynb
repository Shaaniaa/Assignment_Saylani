{
 "cells": [
  {
   "cell_type": "code",
   "execution_count": 11,
   "metadata": {},
   "outputs": [
    {
     "name": "stdout",
     "output_type": "stream",
     "text": [
      "--------------Class with 5 attributes, 3 methods and 5 object instance of class----------\n",
      " --------------xxxxxxxxxxxxxxxxxxxxxxxxxxxxxxxxxxxxxxxxxxxxxxxxxxxxxxxxxxxxxxxxx----------\n",
      "\n",
      "Address of Car Info:  <__main__.Car object at 0x000000955018D5C0>\n",
      "Values of Car Info:  1997 Blue Lamborgini Shafqat Dubai\n",
      "Modified Color:  Pink\n",
      "Modified Car Name:  Hilux\n",
      "Modified Car Model:  2008\n"
     ]
    }
   ],
   "source": [
    "# ---------------- Class with 5 attributes, 3 methods and 5 object instance of class ----------------------\n",
    "\n",
    "print (\"--------------Class with 5 attributes, 3 methods and 5 object instance of class----------\")\n",
    "print(\" --------------xxxxxxxxxxxxxxxxxxxxxxxxxxxxxxxxxxxxxxxxxxxxxxxxxxxxxxxxxxxxxxxxx----------\\n\")\n",
    "class Car():\n",
    "    def __init__(self,model,color,name,owner,origin):\n",
    "        self.model = model\n",
    "        self.color = color\n",
    "        self.name = name\n",
    "        self.owner = owner\n",
    "        self.origin = origin\n",
    "        \n",
    "    def updatecolor(self,color):\n",
    "        self.color = color\n",
    "        \n",
    "    def updateCarName(self,name):\n",
    "        self.name = name\n",
    "    \n",
    "    def updateModel(self,model):\n",
    "        self.model = model\n",
    "        \n",
    "CarInfo= Car(1997,'Blue','Lamborgini','Shafqat','Dubai')\n",
    "print(\"Address of Car Info: \",CarInfo)\n",
    "print(\"Values of Car Info: \",CarInfo.model,CarInfo.color,CarInfo.name,CarInfo.owner,CarInfo.origin)\n",
    "\n",
    "\n",
    "CarInfo.updatecolor(\"Pink\")\n",
    "print(\"Modified Color: \",CarInfo.color)\n",
    "\n",
    "CarInfo.updateCarName(\"Hilux\")\n",
    "print(\"Modified Car Name: \",CarInfo.name)\n",
    "\n",
    "CarInfo.updateModel(2008)\n",
    "print(\"Modified Car Model: \",CarInfo.model)\n"
   ]
  },
  {
   "cell_type": "code",
   "execution_count": null,
   "metadata": {},
   "outputs": [],
   "source": []
  }
 ],
 "metadata": {
  "kernelspec": {
   "display_name": "Python 3",
   "language": "python",
   "name": "python3"
  },
  "language_info": {
   "codemirror_mode": {
    "name": "ipython",
    "version": 3
   },
   "file_extension": ".py",
   "mimetype": "text/x-python",
   "name": "python",
   "nbconvert_exporter": "python",
   "pygments_lexer": "ipython3",
   "version": "3.6.5"
  }
 },
 "nbformat": 4,
 "nbformat_minor": 2
}
