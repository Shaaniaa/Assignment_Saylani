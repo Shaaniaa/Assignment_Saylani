{
 "cells": [
  {
   "cell_type": "markdown",
   "metadata": {},
   "source": [
    "# TASK1: \n",
    "Use a dictionary to store information about a person you know. Store their first name, last name, age,\n",
    "and the city in which they live. You should have keys such as first_name, last_name, age, and city. Print\n",
    "each piece of information stored in your dictionary. Add a new key value pair about qualification then\n",
    "update the qualification value to high academic level then delete it."
   ]
  },
  {
   "cell_type": "code",
   "execution_count": 9,
   "metadata": {},
   "outputs": [
    {
     "name": "stdout",
     "output_type": "stream",
     "text": [
      "{'first_name': 'Shania', 'last_name': 'Khan', 'Age': 21, 'City': 'Karachi'}\n",
      "{'first_name': 'Shania', 'last_name': 'Khan', 'Age': 21, 'City': 'Karachi', 'Qualification': 'Bachelors in Computer Science'}\n",
      "{'first_name': 'Shania', 'last_name': 'Khan', 'Age': 21, 'City': 'Karachi', 'Qualification': 'High Academic Level'}\n",
      "{'first_name': 'Shania', 'last_name': 'Khan', 'Age': 21, 'City': 'Karachi'}\n"
     ]
    }
   ],
   "source": [
    "Personal_information = {\n",
    "    \"first_name\": \"Shania\",\n",
    "    \"last_name\":\"Khan\",\n",
    "    \"Age\":21,\n",
    "    \"City\":\"Karachi\"\n",
    "    \n",
    "}\n",
    "\n",
    "print (Personal_information)\n",
    "\n",
    "Personal_information[\"Qualification\"]=\"Bachelors in Computer Science\"\n",
    "print (Personal_information)\n",
    "\n",
    "Personal_information[\"Qualification\"]=\"High Academic Level\"\n",
    "print (Personal_information)\n",
    "\n",
    "del Personal_information[\"Qualification\"]\n",
    "print (Personal_information)\n"
   ]
  },
  {
   "cell_type": "markdown",
   "metadata": {},
   "source": [
    "# TASK 2\n",
    "Make a dictionary called cities. Use the names of three cities as keys in your dictionary. Create a\n",
    "dictionary of information about each city and include the country that the city is in, its approximate\n",
    "population, and one fact about that city. The keys for each city’s dictionary should be something like\n",
    "country, population, and fact. Print the name of each city and all of the information you have stored\n",
    "about it."
   ]
  },
  {
   "cell_type": "code",
   "execution_count": 18,
   "metadata": {
    "scrolled": true
   },
   "outputs": [
    {
     "name": "stdout",
     "output_type": "stream",
     "text": [
      "{'Country': 'Pakistan', 'Population': '197 million', 'Fact': 'Biryani'}\n",
      "{'Country': 'USA', 'Population': '327.2 million', 'Fact': 'Central Park and Time Square'}\n",
      "{'Country': 'Turkey', 'Population': '80.81 million', 'Fact': 'Air Balloons'}\n"
     ]
    }
   ],
   "source": [
    "cities = {\n",
    "    \"Karachi\":{\n",
    "        \"Country\": \"Pakistan\",\n",
    "        \"Population\": \"197 million\",\n",
    "        \"Fact\": \"Biryani\"\n",
    "    },\n",
    "    \"Newyork\":{\n",
    "        \"Country\": \"USA\",\n",
    "        \"Population\": \"327.2 million\",\n",
    "        \"Fact\": \"Central Park and Time Square\"\n",
    "\n",
    "    },\n",
    "    \"Cappadocia\":{\n",
    "        \"Country\": \"Turkey\",\n",
    "        \"Population\": \"80.81 million\",\n",
    "        \"Fact\": \"Air Balloons\"\n",
    "\n",
    "    }\n",
    "}\n",
    "\n",
    "print (cities[\"Karachi\"])\n",
    "print (cities[\"Newyork\"])\n",
    "print (cities[\"Cappadocia\"])"
   ]
  },
  {
   "cell_type": "markdown",
   "metadata": {},
   "source": [
    "# TASK3\n",
    "A movie theater charges different ticket prices depending on a person’s age. If a person is under the age\n",
    "of 3, the ticket is free; if they are between 3 and 12, the ticket is $10; and if they are over age 12, the\n",
    "ticket is $15. Write a loop in which you ask users their age, and then tell them the cost of their movie\n",
    "ticket."
   ]
  },
  {
   "cell_type": "code",
   "execution_count": 2,
   "metadata": {
    "scrolled": true
   },
   "outputs": [
    {
     "name": "stdout",
     "output_type": "stream",
     "text": [
      "Enter your Age to know about Movie Ticket Price or Press s to quit: 8\n",
      "The ticket is of $10\n"
     ]
    }
   ],
   "source": [
    "score = True\n",
    "\n",
    "while score:\n",
    "    age = int(input(\"Enter your Age to know about Movie Ticket Price or Press s to quit: \"))\n",
    "    \n",
    "    if age < 3:\n",
    "        print(\"The ticket is free\")\n",
    "        break\n",
    "    elif age>=3 and age<=12:\n",
    "        print(\"The ticket is of $10\")\n",
    "        break\n",
    "    else:\n",
    "        print(\"Ticket is $15\")\n",
    "        break\n",
    "        "
   ]
  },
  {
   "cell_type": "markdown",
   "metadata": {},
   "source": [
    "# TASK4\n",
    "Write a function called favorite_book() that accepts one parameter, title. The function should print a\n",
    "message, such as One of my favorite books is Alice in Wonderland. Call the function, making sure to\n",
    "include a book title as an argument in the function call."
   ]
  },
  {
   "cell_type": "code",
   "execution_count": 4,
   "metadata": {},
   "outputs": [
    {
     "name": "stdout",
     "output_type": "stream",
     "text": [
      "One of my favorite book is  Alice in Wonderland\n"
     ]
    }
   ],
   "source": [
    "def favorite_book(title):\n",
    "    print (\"One of my favorite book is \",title)\n",
    "    \n",
    "favorite_book(\"Alice in Wonderland\")"
   ]
  },
  {
   "cell_type": "markdown",
   "metadata": {},
   "source": [
    "# TASK5\n",
    "Guess the number game\n",
    "Write a program which randomly generate a number between 1 to 30 and ask the user in input field to\n",
    "guess the correct number. Give three chances to user guess the number and also give hint to user if\n",
    "hidden number is greater or smaller than the number he given to input field."
   ]
  },
  {
   "cell_type": "code",
   "execution_count": 8,
   "metadata": {},
   "outputs": [
    {
     "name": "stdout",
     "output_type": "stream",
     "text": [
      "\n",
      "\tYou have 3 chances to guess the hidden number (from 1 to 30): 22\n",
      "\tYour guess is greater than the hidden number !\n",
      "\n",
      "\tYou have 2 chances to guess the hidden number (from 1 to 30): 10\n",
      "\tYour guess is greater than the hidden number !\n",
      "\n",
      "\tYou have 1 chances to guess the hidden number (from 1 to 30): 1\n",
      "\tYour guess is less than the hidden number !\n",
      "\n",
      "\tYou Lost the Game!  Hidden Number was 21\n"
     ]
    }
   ],
   "source": [
    "import random\n",
    "i = 3\n",
    "while i:\n",
    "    correct_num = random.randint(1,30)\n",
    "    input_num = int(input(f\"\\n\\tYou have {i} chances to guess the hidden number (from 1 to 30): \"))\n",
    "    \n",
    "    if input_num == correct_num:\n",
    "        print(\"\\t***Congrats ! Correct Guess, You Won the Game*** :)\")\n",
    "        break\n",
    "        \n",
    "    elif input_num > correct_num:\n",
    "        print(\"\\tYour guess is greater than the hidden number !\")\n",
    "        i-=1\n",
    "        \n",
    "    elif input_num < correct_num:\n",
    "        print(\"\\tYour guess is less than the hidden number !\")\n",
    "        i-=1\n",
    "        \n",
    "    elif input_num < 1 or user_num > 30:\n",
    "        print(\"\\tPlease enter number in range 1 to 30 !\")\n",
    "        \n",
    "if i == 0:\n",
    "    print(f\"\\n\\tYou Lost the Game!  Hidden Number was {correct_num}\")"
   ]
  },
  {
   "cell_type": "code",
   "execution_count": null,
   "metadata": {},
   "outputs": [],
   "source": []
  }
 ],
 "metadata": {
  "kernelspec": {
   "display_name": "Python 3",
   "language": "python",
   "name": "python3"
  },
  "language_info": {
   "codemirror_mode": {
    "name": "ipython",
    "version": 3
   },
   "file_extension": ".py",
   "mimetype": "text/x-python",
   "name": "python",
   "nbconvert_exporter": "python",
   "pygments_lexer": "ipython3",
   "version": "3.6.5"
  }
 },
 "nbformat": 4,
 "nbformat_minor": 2
}
